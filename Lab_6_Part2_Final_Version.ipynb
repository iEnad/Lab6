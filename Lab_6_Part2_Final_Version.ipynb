{
 "cells": [
  {
   "cell_type": "code",
   "execution_count": 63,
   "id": "21bf41b9",
   "metadata": {},
   "outputs": [
    {
     "name": "stderr",
     "output_type": "stream",
     "text": [
      "[nltk_data] Downloading package stopwords to\n",
      "[nltk_data]     C:\\Users\\Yousef\\AppData\\Roaming\\nltk_data...\n",
      "[nltk_data]   Package stopwords is already up-to-date!\n",
      "[nltk_data] Downloading package punkt to\n",
      "[nltk_data]     C:\\Users\\Yousef\\AppData\\Roaming\\nltk_data...\n",
      "[nltk_data]   Package punkt is already up-to-date!\n"
     ]
    },
    {
     "data": {
      "text/plain": [
       "True"
      ]
     },
     "execution_count": 63,
     "metadata": {},
     "output_type": "execute_result"
    }
   ],
   "source": [
    "import pandas as pd\n",
    "import numpy as np \n",
    "import nltk\n",
    "nltk.download('stopwords')\n",
    "nltk.download('punkt')"
   ]
  },
  {
   "cell_type": "code",
   "execution_count": 64,
   "id": "8e2d4860",
   "metadata": {},
   "outputs": [],
   "source": [
    "from nltk.corpus import stopwords\n",
    "from nltk.tokenize import word_tokenize\n",
    "from nltk.stem import PorterStemmer\n",
    "import os\n",
    "import string\n",
    "import copy\n",
    "import pickle \n"
   ]
  },
  {
   "cell_type": "code",
   "execution_count": 65,
   "id": "ba153ffc",
   "metadata": {},
   "outputs": [
    {
     "name": "stdout",
     "output_type": "stream",
     "text": [
      "D:\\20_newsgroups\\20_newsgroups\n"
     ]
    }
   ],
   "source": [
    "title = \"20_newsgroups\"\n",
    "os.chdir(\"D:/20_newsgroups/20_newsgroups\")\n",
    "paths = [] \n",
    "for (dirpath, dirnames, filenames) in os.walk(str(os.getcwd())): \n",
    "    for i in filenames:  \n",
    "        paths.append(str(dirpath)+str(\"\\\\\")+i)\n",
    "    \n",
    "    \n",
    "print(dirpath)"
   ]
  },
  {
   "cell_type": "code",
   "execution_count": 66,
   "id": "b83e9857",
   "metadata": {},
   "outputs": [
    {
     "name": "stdout",
     "output_type": "stream",
     "text": [
      "D:\\20_newsgroups\\20_newsgroups\\49960\n"
     ]
    }
   ],
   "source": [
    "print(paths[0])"
   ]
  },
  {
   "cell_type": "code",
   "execution_count": 67,
   "id": "18d4bf1d",
   "metadata": {},
   "outputs": [],
   "source": [
    "def remove_stop_words(data):\n",
    "    stop_words = stopwords.words('english')\n",
    "    words = word_tokenize(str(data))\n",
    "    new_text = \" \"\n",
    "    for w in words:\n",
    "        if w not in stop_words:\n",
    "            new_text = new_text + \" \" + w\n",
    "            return np.char.strip(new_text)"
   ]
  },
  {
   "cell_type": "code",
   "execution_count": 68,
   "id": "9986d09f",
   "metadata": {},
   "outputs": [],
   "source": [
    "def remove_punctuation(data):\n",
    "    symbols = \"!\\\"#$%&()*+-./:;<=>?@[\\]^_`{|}~\\n\"\n",
    "    for i in range(len(symbols)):\n",
    "        data = np.char.replace(data, symbols[i], ' ')\n",
    "        data = np.char.replace(data, \"  \", \" \")\n",
    "    data = np.char.replace(data, ',', '')\n",
    "    return data  "
   ]
  },
  {
   "cell_type": "code",
   "execution_count": 69,
   "id": "63d4d265",
   "metadata": {},
   "outputs": [],
   "source": [
    "def convert_lower_case(data):\n",
    "    return np.char.lower(data)"
   ]
  },
  {
   "cell_type": "code",
   "execution_count": 70,
   "id": "7015ba61",
   "metadata": {},
   "outputs": [],
   "source": [
    "def stemming(data):\n",
    "    stemmer= PorterStemmer()\n",
    "\n",
    "    tokens = word_tokenize(str(data))\n",
    "    new_text = \"\"\n",
    "    for w in tokens:\n",
    "        new_text = new_text + \" \" + stemmer.stem(w)\n",
    "        return np.char.strip(new_text) "
   ]
  },
  {
   "cell_type": "code",
   "execution_count": 71,
   "id": "9b8981d5",
   "metadata": {},
   "outputs": [],
   "source": [
    "def convert_numbers(data):\n",
    "    data = np.char.replace(data, \"0\", \" zero \")\n",
    "    data = np.char.replace(data, \"1\", \" one \")\n",
    "    data = np.char.replace(data, \"2\", \" two \")\n",
    "    data = np.char.replace(data, \"3\", \" three \")\n",
    "    data = np.char.replace(data, \"4\", \" four \")\n",
    "    data = np.char.replace(data, \"5\", \" five \")\n",
    "    data = np.char.replace(data, \"6\", \" six \")\n",
    "    data = np.char.replace(data, \"7\", \" seven \")\n",
    "    data = np.char.replace(data, \"8\", \" eight \")\n",
    "    data = np.char.replace(data, \"9\", \" nine \")\n",
    "    return data"
   ]
  },
  {
   "cell_type": "code",
   "execution_count": 72,
   "id": "5573a52c",
   "metadata": {},
   "outputs": [],
   "source": [
    "def remove_header(data):\n",
    "    try:\n",
    "        ind = data.index('\\n\\n')\n",
    "        data = data[ind:]\n",
    "    except:\n",
    "         print(\"No Header\")\n",
    "    return data \n"
   ]
  },
  {
   "cell_type": "code",
   "execution_count": 73,
   "id": "7c82d695",
   "metadata": {},
   "outputs": [],
   "source": [
    "def remove_apostrophe(data):\n",
    "    return np.char.replace(data, \"'\", \"\")"
   ]
  },
  {
   "cell_type": "code",
   "execution_count": 74,
   "id": "d069abb2",
   "metadata": {},
   "outputs": [],
   "source": [
    "def remove_single_characters(data):\n",
    "    words = word_tokenize(str(data))\n",
    "    new_text = \"\"\n",
    "    for w in words:\n",
    "         if len(w) > 1:\n",
    "            new_text = new_text + \" \" + w\n",
    "    return np.char.strip(new_text)"
   ]
  },
  {
   "cell_type": "code",
   "execution_count": 75,
   "id": "b66058d5",
   "metadata": {},
   "outputs": [],
   "source": [
    "def preprocess(data,query): \n",
    "    data = remove_header(data)\n",
    "    data = convert_lower_case(data)\n",
    "    data = remove_punctuation(data)\n",
    "    data = remove_stop_words(data)\n",
    "    data = remove_apostrophe(data)\n",
    "    data = remove_single_characters(data)\n",
    "    data = stemming(data)\n",
    "    return data "
   ]
  },
  {
   "cell_type": "code",
   "execution_count": 76,
   "id": "92f63aaf",
   "metadata": {},
   "outputs": [
    {
     "name": "stdout",
     "output_type": "stream",
     "text": [
      "0\n",
      "100\n",
      "200\n",
      "300\n",
      "400\n",
      "500\n",
      "600\n",
      "700\n",
      "800\n",
      "No Header\n",
      "900\n"
     ]
    }
   ],
   "source": [
    "doc = 0\n",
    "postings = pd.DataFrame()\n",
    "for path in paths:\n",
    "    file = open(path, 'r', encoding='cp1250')\n",
    "    text = file.read().strip()\n",
    "    file.close()\n",
    "    preprocessed_text = preprocess(text, False)\n",
    "\n",
    "    if doc%100 == 0:\n",
    "        print(doc)\n",
    "\n",
    "    tokens = word_tokenize(str(preprocessed_text))\n",
    "    for token in tokens:\n",
    "        if token in postings:\n",
    "            p = postings[token][0]\n",
    "            p.add(doc)\n",
    "            postings[token][0] = p \n",
    "        else:\n",
    "            postings.insert(value=[{doc}], loc=0,column=token)\n",
    "    doc += 1"
   ]
  },
  {
   "cell_type": "code",
   "execution_count": 77,
   "id": "07ca14c1",
   "metadata": {},
   "outputs": [
    {
     "data": {
      "text/html": [
       "<div>\n",
       "<style scoped>\n",
       "    .dataframe tbody tr th:only-of-type {\n",
       "        vertical-align: middle;\n",
       "    }\n",
       "\n",
       "    .dataframe tbody tr th {\n",
       "        vertical-align: top;\n",
       "    }\n",
       "\n",
       "    .dataframe thead th {\n",
       "        text-align: right;\n",
       "    }\n",
       "</style>\n",
       "<table border=\"1\" class=\"dataframe\">\n",
       "  <thead>\n",
       "    <tr style=\"text-align: right;\">\n",
       "      <th></th>\n",
       "      <th>rh</th>\n",
       "      <th>mc</th>\n",
       "      <th>br</th>\n",
       "      <th>media</th>\n",
       "      <th>start</th>\n",
       "      <th>free</th>\n",
       "      <th>dean</th>\n",
       "      <th>stuff</th>\n",
       "      <th>default</th>\n",
       "      <th>93106</th>\n",
       "      <th>...</th>\n",
       "      <th>bobb</th>\n",
       "      <th>wpr</th>\n",
       "      <th>sandvik</th>\n",
       "      <th>livesey</th>\n",
       "      <th>kmr4</th>\n",
       "      <th>refer</th>\n",
       "      <th>arromde</th>\n",
       "      <th>dmn</th>\n",
       "      <th>articl</th>\n",
       "      <th>archiv</th>\n",
       "    </tr>\n",
       "  </thead>\n",
       "  <tbody>\n",
       "    <tr>\n",
       "      <th>0</th>\n",
       "      <td>{988}</td>\n",
       "      <td>{987}</td>\n",
       "      <td>{985, 986}</td>\n",
       "      <td>{982}</td>\n",
       "      <td>{979}</td>\n",
       "      <td>{976}</td>\n",
       "      <td>{971}</td>\n",
       "      <td>{967}</td>\n",
       "      <td>{961}</td>\n",
       "      <td>{941}</td>\n",
       "      <td>...</td>\n",
       "      <td>{295, 43, 14, 15, 16, 155, 989}</td>\n",
       "      <td>{12, 340}</td>\n",
       "      <td>{866, 294, 839, 11, 907}</td>\n",
       "      <td>{386, 324, 325, 838, 10, 842, 332, 367, 368, 3...</td>\n",
       "      <td>{293, 614, 264, 9, 841, 302, 244, 958, 310, 53...</td>\n",
       "      <td>{8, 179, 45}</td>\n",
       "      <td>{6, 745, 330, 13, 920}</td>\n",
       "      <td>{3}</td>\n",
       "      <td>{2, 4, 5, 7, 17, 18, 19, 20, 22, 23, 24, 27, 2...</td>\n",
       "      <td>{0, 1, 900, 901, 203, 204, 205}</td>\n",
       "    </tr>\n",
       "  </tbody>\n",
       "</table>\n",
       "<p>1 rows × 233 columns</p>\n",
       "</div>"
      ],
      "text/plain": [
       "      rh     mc          br  media  start   free   dean  stuff default  93106  \\\n",
       "0  {988}  {987}  {985, 986}  {982}  {979}  {976}  {971}  {967}   {961}  {941}   \n",
       "\n",
       "   ...                             bobb        wpr                   sandvik  \\\n",
       "0  ...  {295, 43, 14, 15, 16, 155, 989}  {12, 340}  {866, 294, 839, 11, 907}   \n",
       "\n",
       "                                             livesey  \\\n",
       "0  {386, 324, 325, 838, 10, 842, 332, 367, 368, 3...   \n",
       "\n",
       "                                                kmr4         refer  \\\n",
       "0  {293, 614, 264, 9, 841, 302, 244, 958, 310, 53...  {8, 179, 45}   \n",
       "\n",
       "                  arromde  dmn  \\\n",
       "0  {6, 745, 330, 13, 920}  {3}   \n",
       "\n",
       "                                              articl  \\\n",
       "0  {2, 4, 5, 7, 17, 18, 19, 20, 22, 23, 24, 27, 2...   \n",
       "\n",
       "                            archiv  \n",
       "0  {0, 1, 900, 901, 203, 204, 205}  \n",
       "\n",
       "[1 rows x 233 columns]"
      ]
     },
     "execution_count": 77,
     "metadata": {},
     "output_type": "execute_result"
    }
   ],
   "source": [
    "postings\n"
   ]
  },
  {
   "cell_type": "code",
   "execution_count": 78,
   "id": "3a6227e5",
   "metadata": {},
   "outputs": [
    {
     "data": {
      "text/plain": [
       "{961}"
      ]
     },
     "execution_count": 78,
     "metadata": {},
     "output_type": "execute_result"
    }
   ],
   "source": [
    "postings[\"default\"][0]\n"
   ]
  },
  {
   "cell_type": "code",
   "execution_count": null,
   "id": "268289f8",
   "metadata": {},
   "outputs": [],
   "source": []
  },
  {
   "cell_type": "code",
   "execution_count": 79,
   "id": "9c026a04",
   "metadata": {},
   "outputs": [],
   "source": [
    "def generate_command_tokens(query):\n",
    "    query = query.lower()\n",
    "    tokens = word_tokenize(query)\n",
    "    \n",
    "    commands = []\n",
    "    query_words = []\n",
    "    \n",
    "    for t in tokens:\n",
    "        if t not in ['and', 'or', 'not']:\n",
    "            preprocessed_word = preprocess([t], True)\n",
    "            print(str(preprocessed_word))\n",
    "            query_words.append(str(preprocessed_word))\n",
    "        else:\n",
    "            commands.append(t)\n",
    "            \n",
    "    return commands, query_words"
   ]
  },
  {
   "cell_type": "code",
   "execution_count": 80,
   "id": "cb489044",
   "metadata": {},
   "outputs": [],
   "source": [
    "def gen_not_tuple(query_words, commands):\n",
    "\n",
    "    tup = []\n",
    "\n",
    "    while 'not' in commands:\n",
    "\n",
    "        i = commands.index('not')\n",
    "\n",
    "        word = query_words[i]\n",
    "\n",
    "        word_postings = get_not(word)\n",
    "\n",
    "        tup.append(word_postings)\n",
    "\n",
    "        commands.pop(i)\n",
    "\n",
    "        query_words[i] = i\n",
    "\n",
    "        print('\\nAfter Not Processing:', commands, query_words)\n",
    "\n",
    "    return tup\n",
    "\n",
    "\n",
    "def binary_operations(query_words, commands, tup):\n",
    "\n",
    "    a = postings[query_words[0]][0]\n",
    "\n",
    "    query_words.pop(0)\n",
    "\n",
    "    for i in range(len(commands)):\n",
    "\n",
    "        if type(query_words[i]) == int:\n",
    "\n",
    "            b = tup.pop(0)\n",
    "        else:\n",
    "\n",
    "            b = postings[query_words[i]][0]\n",
    "\n",
    "        if commands[i] == 'and':\n",
    "\n",
    "            a = a.intersection(b)\n",
    "        elif commands[i] == 'or':\n",
    "\n",
    "            a = a.union(b)\n",
    "        else:\n",
    "\n",
    "            print('Invalid Command')\n",
    "\n",
    "    return a\n",
    "\n",
    "\n",
    "def execute_query(query):\n",
    "\n",
    "    (commands, query_words) = generate_command_tokens(query)\n",
    "\n",
    "    tup = gen_not_tuple(query_words, commands)\n",
    "\n",
    "    print('\\nCommands:', commands)\n",
    "\n",
    "    print('\\nQuery Words:', query_words)\n",
    "\n",
    "    print('\\nTup:', len(tup))\n",
    "\n",
    "    final_set = binary_operations(query_words, commands, tup)\n",
    "\n",
    "    print('\\nFinal Set:', final_set)\n",
    "\n",
    "    return final_set\n",
    "\n",
    "\n",
    "def print_file(file):\n",
    "\n",
    "    out_file = open(paths[file], 'r', encoding='cp1250')\n",
    "\n",
    "    out_text = out_file.read()\n",
    "\n",
    "    print(out_text)"
   ]
  },
  {
   "cell_type": "code",
   "execution_count": 81,
   "id": "c1a310f5",
   "metadata": {},
   "outputs": [],
   "source": [
    "query=\"exam and not resource\"\n"
   ]
  },
  {
   "cell_type": "code",
   "execution_count": 82,
   "id": "1cc9e28e",
   "metadata": {},
   "outputs": [
    {
     "name": "stdout",
     "output_type": "stream",
     "text": [
      "No Header\n",
      "None\n",
      "No Header\n",
      "None\n",
      "\n",
      "After Not Processing: ['and'] ['None', 1]\n",
      "\n",
      "Commands: ['and']\n",
      "\n",
      "Query Words: ['None', 1]\n",
      "\n",
      "Tup: 1\n",
      "\n",
      "Final Set: set()\n"
     ]
    }
   ],
   "source": [
    "lists = execute_query(query)\n"
   ]
  },
  {
   "cell_type": "code",
   "execution_count": null,
   "id": "485c3ddf",
   "metadata": {},
   "outputs": [],
   "source": []
  }
 ],
 "metadata": {
  "kernelspec": {
   "display_name": "Python 3",
   "language": "python",
   "name": "python3"
  },
  "language_info": {
   "codemirror_mode": {
    "name": "ipython",
    "version": 3
   },
   "file_extension": ".py",
   "mimetype": "text/x-python",
   "name": "python",
   "nbconvert_exporter": "python",
   "pygments_lexer": "ipython3",
   "version": "3.8.8"
  }
 },
 "nbformat": 4,
 "nbformat_minor": 5
}
