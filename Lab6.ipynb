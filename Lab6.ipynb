{
 "cells": [
  {
   "cell_type": "code",
   "execution_count": 1,
   "id": "bfe16553",
   "metadata": {},
   "outputs": [
    {
     "name": "stderr",
     "output_type": "stream",
     "text": [
      "[nltk_data] Downloading package stopwords to\n",
      "[nltk_data]     C:\\Users\\yousef\\AppData\\Roaming\\nltk_data...\n",
      "[nltk_data]   Unzipping corpora\\stopwords.zip.\n",
      "[nltk_data] Downloading package punkt to\n",
      "[nltk_data]     C:\\Users\\yousef\\AppData\\Roaming\\nltk_data...\n",
      "[nltk_data]   Package punkt is already up-to-date!\n"
     ]
    },
    {
     "data": {
      "text/plain": [
       "True"
      ]
     },
     "execution_count": 1,
     "metadata": {},
     "output_type": "execute_result"
    }
   ],
   "source": [
    "import pandas as pd\n",
    "import numpy as np\n",
    "import nltk\n",
    "\n",
    "nltk.download('stopwords')\n",
    "nltk.download('punkt')"
   ]
  },
  {
   "cell_type": "code",
   "execution_count": 2,
   "id": "3140674f",
   "metadata": {},
   "outputs": [],
   "source": [
    "from nltk.corpus import stopwords \n",
    "from nltk.tokenize import word_tokenize \n",
    "from nltk.stem import PorterStemmer \n",
    "import os \n",
    "import string \n",
    "import copy \n",
    "import pickle "
   ]
  },
  {
   "cell_type": "code",
   "execution_count": 20,
   "id": "d30778b5",
   "metadata": {},
   "outputs": [
    {
     "name": "stdout",
     "output_type": "stream",
     "text": [
      "D:\\20_newsgroups\\20_newsgroups\n"
     ]
    }
   ],
   "source": [
    "title = \"20_newsgroups\"\n",
    "os.chdir(\"D:/20_newsgroups/20_newsgroups\")\n",
    "paths = [] \n",
    "for (dirpath, dirnames, filenames) in os.walk(str(os.getcwd())): \n",
    "    for i in filenames:  \n",
    "        paths.append(str(dirpath)+str(\"//\")+i)\n",
    "    \n",
    "    \n",
    "print(dirpath)"
   ]
  },
  {
   "cell_type": "code",
   "execution_count": 21,
   "id": "89d2de1d",
   "metadata": {},
   "outputs": [
    {
     "data": {
      "text/plain": [
       "'D:\\\\20_newsgroups\\\\20_newsgroups//49960'"
      ]
     },
     "execution_count": 21,
     "metadata": {},
     "output_type": "execute_result"
    }
   ],
   "source": [
    "paths[0]"
   ]
  },
  {
   "cell_type": "markdown",
   "id": "dde6f029",
   "metadata": {},
   "source": [
    "<h3> 1. Removing stop words  </h3>"
   ]
  },
  {
   "cell_type": "code",
   "execution_count": 22,
   "id": "5997fb80",
   "metadata": {},
   "outputs": [],
   "source": [
    "def remove_stop_words(data):\n",
    "    stop_words = stopwords.words('english')\n",
    "    words = word_tokenize(str(data))\n",
    "    new_text = ''\n",
    "    for w in words:\n",
    "        if w not in stop_words:\n",
    "            new_text = new_text + ' ' + w\n",
    "    return np.char.strip(new_text)"
   ]
  },
  {
   "cell_type": "markdown",
   "id": "02c4e7d9",
   "metadata": {},
   "source": [
    "\n",
    "<h3> 2. Removing punctuation  </h3>\n",
    "\n"
   ]
  },
  {
   "cell_type": "code",
   "execution_count": 23,
   "id": "bfaffbf1",
   "metadata": {},
   "outputs": [],
   "source": [
    "def remove_punctuation(data):\n",
    "    symbols = \"!\\\"#$%&()*+-./:;<=>?@[\\]^_`{|}~\\n\"\n",
    "    for i in range(len(symbols)):\n",
    "        data = np.char.replace(data, symbols[i], '')\n",
    "        data = np.char.replace(data, '  ', ' ')\n",
    "    data = np.char.replace(data, ',', '')\n",
    "    return data"
   ]
  },
  {
   "cell_type": "markdown",
   "id": "45724658",
   "metadata": {},
   "source": [
    "<h3> 3. Convert to lowercase  </h3>"
   ]
  },
  {
   "cell_type": "code",
   "execution_count": 24,
   "id": "ba76a064",
   "metadata": {},
   "outputs": [],
   "source": [
    "def convert_lower_case(data):\n",
    "    return np.char.lower(data) "
   ]
  },
  {
   "cell_type": "markdown",
   "id": "d85b336c",
   "metadata": {},
   "source": [
    "<h3> 4. Stemming </h3>"
   ]
  },
  {
   "cell_type": "code",
   "execution_count": 27,
   "id": "04ba12ca",
   "metadata": {},
   "outputs": [],
   "source": [
    "def stemming(data):\n",
    "    stemmer= PorterStemmer()\n",
    "\n",
    "    tokens = word_tokenize(str(data))\n",
    "    new_text = \"\"\n",
    "    for w in tokens:\n",
    "        new_text = new_text + \" \" + stemmer.stem(w)\n",
    "        return np.char.strip(new_text)"
   ]
  },
  {
   "cell_type": "markdown",
   "id": "c0a04237",
   "metadata": {},
   "source": [
    "<h3> 5. Converting numbers to its equivalent words </h3>\n"
   ]
  },
  {
   "cell_type": "code",
   "execution_count": 28,
   "id": "9167ca18",
   "metadata": {},
   "outputs": [],
   "source": [
    "def convert_numbers(data):\n",
    "    data = np.char.replace(data, \"0\", \" zero \")\n",
    "    data = np.char.replace(data, \"1\", \" one \")\n",
    "    data = np.char.replace(data, \"2\", \" two \")\n",
    "    data = np.char.replace(data, \"3\", \" three \")\n",
    "    data = np.char.replace(data, \"4\", \" four \")\n",
    "    data = np.char.replace(data, \"5\", \" five \")\n",
    "    data = np.char.replace(data, \"6\", \" six \")\n",
    "    data = np.char.replace(data, \"7\", \" seven \")\n",
    "    data = np.char.replace(data, \"8\", \" eight \")\n",
    "    data = np.char.replace(data, \"9\", \" nine \")\n",
    "    return data \n"
   ]
  },
  {
   "cell_type": "markdown",
   "id": "07d22e3a",
   "metadata": {},
   "source": [
    "<h3> 6. Removing header </h3>"
   ]
  },
  {
   "cell_type": "code",
   "execution_count": 32,
   "id": "29da5c59",
   "metadata": {},
   "outputs": [],
   "source": [
    "def remove_header(data):\n",
    "    try:\n",
    "        ind = data.index('\\n\\n')\n",
    "        data = data[ind:]\n",
    "    except:\n",
    "            print(\"No Header\")\n",
    "            return data"
   ]
  },
  {
   "cell_type": "markdown",
   "id": "48759e08",
   "metadata": {},
   "source": [
    "<h3> 7. Removing apostrophe </h3>"
   ]
  },
  {
   "cell_type": "code",
   "execution_count": 33,
   "id": "e34eb059",
   "metadata": {},
   "outputs": [],
   "source": [
    "def remove_apostrophe(data):\n",
    "    return np.char.replace(data, \"'\", \"\")"
   ]
  },
  {
   "cell_type": "markdown",
   "id": "64ca6dbc",
   "metadata": {},
   "source": [
    "<h3> 8. Removing single characters </h3>\n"
   ]
  },
  {
   "cell_type": "code",
   "execution_count": 34,
   "id": "ef17d0df",
   "metadata": {},
   "outputs": [],
   "source": [
    "def remove_single_characters(data):\n",
    "    words = word_tokenize(str(data))\n",
    "    new_text = \"\"\n",
    "    for w in words:\n",
    "        if len(w) > 1:\n",
    "            new_text = new_text + \" \" + w\n",
    "            return np.char.strip(new_text)"
   ]
  },
  {
   "cell_type": "code",
   "execution_count": null,
   "id": "7162231a",
   "metadata": {},
   "outputs": [],
   "source": []
  }
 ],
 "metadata": {
  "kernelspec": {
   "display_name": "Python 3",
   "language": "python",
   "name": "python3"
  },
  "language_info": {
   "codemirror_mode": {
    "name": "ipython",
    "version": 3
   },
   "file_extension": ".py",
   "mimetype": "text/x-python",
   "name": "python",
   "nbconvert_exporter": "python",
   "pygments_lexer": "ipython3",
   "version": "3.8.8"
  }
 },
 "nbformat": 4,
 "nbformat_minor": 5
}
